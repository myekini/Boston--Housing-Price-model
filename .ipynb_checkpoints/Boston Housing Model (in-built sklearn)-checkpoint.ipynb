{
 "cells": [
  {
   "cell_type": "code",
   "execution_count": 234,
   "id": "48afa2fe",
   "metadata": {},
   "outputs": [],
   "source": [
    "import pandas as pd\n",
    "from sklearn.tree import DecisionTreeRegressor\n",
    "from sklearn.ensemble import RandomForestRegressor\n",
    "from sklearn.metrics import mean_absolute_error\n",
    "from sklearn.model_selection import train_test_split\n",
    "from sklearn.impute import SimpleImputer\n"
   ]
  },
  {
   "cell_type": "code",
   "execution_count": 235,
   "id": "587f2b8a",
   "metadata": {},
   "outputs": [
    {
     "data": {
      "text/html": [
       "<div>\n",
       "<style scoped>\n",
       "    .dataframe tbody tr th:only-of-type {\n",
       "        vertical-align: middle;\n",
       "    }\n",
       "\n",
       "    .dataframe tbody tr th {\n",
       "        vertical-align: top;\n",
       "    }\n",
       "\n",
       "    .dataframe thead th {\n",
       "        text-align: right;\n",
       "    }\n",
       "</style>\n",
       "<table border=\"1\" class=\"dataframe\">\n",
       "  <thead>\n",
       "    <tr style=\"text-align: right;\">\n",
       "      <th></th>\n",
       "      <th>longitude</th>\n",
       "      <th>latitude</th>\n",
       "      <th>housing_median_age</th>\n",
       "      <th>total_rooms</th>\n",
       "      <th>total_bedrooms</th>\n",
       "      <th>population</th>\n",
       "      <th>households</th>\n",
       "      <th>median_income</th>\n",
       "      <th>median_house_value</th>\n",
       "    </tr>\n",
       "  </thead>\n",
       "  <tbody>\n",
       "    <tr>\n",
       "      <th>count</th>\n",
       "      <td>20640.000000</td>\n",
       "      <td>20640.000000</td>\n",
       "      <td>20640.000000</td>\n",
       "      <td>20640.000000</td>\n",
       "      <td>20433.000000</td>\n",
       "      <td>20640.000000</td>\n",
       "      <td>20640.000000</td>\n",
       "      <td>20640.000000</td>\n",
       "      <td>20640.000000</td>\n",
       "    </tr>\n",
       "    <tr>\n",
       "      <th>mean</th>\n",
       "      <td>-119.569704</td>\n",
       "      <td>35.631861</td>\n",
       "      <td>28.639486</td>\n",
       "      <td>2635.763081</td>\n",
       "      <td>537.870553</td>\n",
       "      <td>1425.476744</td>\n",
       "      <td>499.539680</td>\n",
       "      <td>3.870671</td>\n",
       "      <td>206855.816909</td>\n",
       "    </tr>\n",
       "    <tr>\n",
       "      <th>std</th>\n",
       "      <td>2.003532</td>\n",
       "      <td>2.135952</td>\n",
       "      <td>12.585558</td>\n",
       "      <td>2181.615252</td>\n",
       "      <td>421.385070</td>\n",
       "      <td>1132.462122</td>\n",
       "      <td>382.329753</td>\n",
       "      <td>1.899822</td>\n",
       "      <td>115395.615874</td>\n",
       "    </tr>\n",
       "    <tr>\n",
       "      <th>min</th>\n",
       "      <td>-124.350000</td>\n",
       "      <td>32.540000</td>\n",
       "      <td>1.000000</td>\n",
       "      <td>2.000000</td>\n",
       "      <td>1.000000</td>\n",
       "      <td>3.000000</td>\n",
       "      <td>1.000000</td>\n",
       "      <td>0.499900</td>\n",
       "      <td>14999.000000</td>\n",
       "    </tr>\n",
       "    <tr>\n",
       "      <th>25%</th>\n",
       "      <td>-121.800000</td>\n",
       "      <td>33.930000</td>\n",
       "      <td>18.000000</td>\n",
       "      <td>1447.750000</td>\n",
       "      <td>296.000000</td>\n",
       "      <td>787.000000</td>\n",
       "      <td>280.000000</td>\n",
       "      <td>2.563400</td>\n",
       "      <td>119600.000000</td>\n",
       "    </tr>\n",
       "    <tr>\n",
       "      <th>50%</th>\n",
       "      <td>-118.490000</td>\n",
       "      <td>34.260000</td>\n",
       "      <td>29.000000</td>\n",
       "      <td>2127.000000</td>\n",
       "      <td>435.000000</td>\n",
       "      <td>1166.000000</td>\n",
       "      <td>409.000000</td>\n",
       "      <td>3.534800</td>\n",
       "      <td>179700.000000</td>\n",
       "    </tr>\n",
       "    <tr>\n",
       "      <th>75%</th>\n",
       "      <td>-118.010000</td>\n",
       "      <td>37.710000</td>\n",
       "      <td>37.000000</td>\n",
       "      <td>3148.000000</td>\n",
       "      <td>647.000000</td>\n",
       "      <td>1725.000000</td>\n",
       "      <td>605.000000</td>\n",
       "      <td>4.743250</td>\n",
       "      <td>264725.000000</td>\n",
       "    </tr>\n",
       "    <tr>\n",
       "      <th>max</th>\n",
       "      <td>-114.310000</td>\n",
       "      <td>41.950000</td>\n",
       "      <td>52.000000</td>\n",
       "      <td>39320.000000</td>\n",
       "      <td>6445.000000</td>\n",
       "      <td>35682.000000</td>\n",
       "      <td>6082.000000</td>\n",
       "      <td>15.000100</td>\n",
       "      <td>500001.000000</td>\n",
       "    </tr>\n",
       "  </tbody>\n",
       "</table>\n",
       "</div>"
      ],
      "text/plain": [
       "          longitude      latitude  housing_median_age   total_rooms  \\\n",
       "count  20640.000000  20640.000000        20640.000000  20640.000000   \n",
       "mean    -119.569704     35.631861           28.639486   2635.763081   \n",
       "std        2.003532      2.135952           12.585558   2181.615252   \n",
       "min     -124.350000     32.540000            1.000000      2.000000   \n",
       "25%     -121.800000     33.930000           18.000000   1447.750000   \n",
       "50%     -118.490000     34.260000           29.000000   2127.000000   \n",
       "75%     -118.010000     37.710000           37.000000   3148.000000   \n",
       "max     -114.310000     41.950000           52.000000  39320.000000   \n",
       "\n",
       "       total_bedrooms    population    households  median_income  \\\n",
       "count    20433.000000  20640.000000  20640.000000   20640.000000   \n",
       "mean       537.870553   1425.476744    499.539680       3.870671   \n",
       "std        421.385070   1132.462122    382.329753       1.899822   \n",
       "min          1.000000      3.000000      1.000000       0.499900   \n",
       "25%        296.000000    787.000000    280.000000       2.563400   \n",
       "50%        435.000000   1166.000000    409.000000       3.534800   \n",
       "75%        647.000000   1725.000000    605.000000       4.743250   \n",
       "max       6445.000000  35682.000000   6082.000000      15.000100   \n",
       "\n",
       "       median_house_value  \n",
       "count        20640.000000  \n",
       "mean        206855.816909  \n",
       "std         115395.615874  \n",
       "min          14999.000000  \n",
       "25%         119600.000000  \n",
       "50%         179700.000000  \n",
       "75%         264725.000000  \n",
       "max         500001.000000  "
      ]
     },
     "execution_count": 235,
     "metadata": {},
     "output_type": "execute_result"
    }
   ],
   "source": [
    "PATH = \"housing.csv\"\n",
    "#load data and read into dataframe\n",
    "califonia_data = pd.read_csv(PATH)\n",
    "\n",
    "#drop down NaN and display dataframe\n",
    "califonia_data.describe()"
   ]
  },
  {
   "cell_type": "code",
   "execution_count": 236,
   "id": "a931a064",
   "metadata": {},
   "outputs": [
    {
     "data": {
      "text/plain": [
       "Index(['longitude', 'latitude', 'housing_median_age', 'total_rooms',\n",
       "       'total_bedrooms', 'population', 'households', 'median_income',\n",
       "       'median_house_value', 'ocean_proximity'],\n",
       "      dtype='object')"
      ]
     },
     "execution_count": 236,
     "metadata": {},
     "output_type": "execute_result"
    }
   ],
   "source": [
    "califonia_data.columns"
   ]
  },
  {
   "cell_type": "code",
   "execution_count": 237,
   "id": "f5fb9eb6",
   "metadata": {},
   "outputs": [
    {
     "data": {
      "text/plain": [
       "count     20640.000000\n",
       "mean     206855.816909\n",
       "std      115395.615874\n",
       "min       14999.000000\n",
       "25%      119600.000000\n",
       "50%      179700.000000\n",
       "75%      264725.000000\n",
       "max      500001.000000\n",
       "Name: median_house_value, dtype: float64"
      ]
     },
     "execution_count": 237,
     "metadata": {},
     "output_type": "execute_result"
    }
   ],
   "source": [
    "#setting prediction target(house value)\n",
    "y = califonia_data.median_house_value\n",
    "y.describe()"
   ]
  },
  {
   "cell_type": "code",
   "execution_count": 238,
   "id": "82920c8f",
   "metadata": {},
   "outputs": [],
   "source": [
    "#features to be considered for prediction\n",
    "features = ['longitude', 'latitude', 'housing_median_age', 'total_rooms', 'population', 'households', 'median_income']\n",
    "\n",
    "#setting Features\n",
    "X = califonia_data[features]"
   ]
  },
  {
   "cell_type": "code",
   "execution_count": 239,
   "id": "b8466a82",
   "metadata": {},
   "outputs": [],
   "source": [
    "# split data to get training and validation data\n",
    "train_X, val_X, train_y, val_y = train_test_split(X,y, random_state=0)"
   ]
  },
  {
   "cell_type": "code",
   "execution_count": 240,
   "id": "66753ce5",
   "metadata": {},
   "outputs": [],
   "source": [
    "# define function for prediting and evaluating our dataset\n",
    "\n",
    "def score_all(train_X, val_X, train_y, val_y):\n",
    "    model = RandomForestRegressor(random_state=1)\n",
    "    model.fit(train_X, train_y)\n",
    "    preds = model.predict(val_X)\n",
    "    mae = mean_absolute_error(val_y,preds)\n",
    "    return mae"
   ]
  },
  {
   "cell_type": "code",
   "execution_count": 241,
   "id": "58d07f86",
   "metadata": {},
   "outputs": [
    {
     "name": "stdout",
     "output_type": "stream",
     "text": [
      "MAE from dropping columns\n",
      "32070.773844961244\n"
     ]
    }
   ],
   "source": [
    "# First (1st) approach to handlling missing data, get columns with missing data\n",
    "col_with_missing = [col for col in train_X.columns\n",
    "                   if train_X[col].isnull().any()]\n",
    "\n",
    "for col in col_with_missing:\n",
    "    print(col)\n",
    "\n",
    "train_X_reduced = train_X.drop(col_with_missing, axis=1)\n",
    "val_X_reduced = val_X.drop(col_with_missing, axis=1)\n",
    "\n",
    "print (\"MAE from dropping columns\")\n",
    "print(score_all(train_X_reduced, val_X_reduced, train_y, val_y))\n",
    "\n"
   ]
  },
  {
   "cell_type": "code",
   "execution_count": null,
   "id": "31c66072",
   "metadata": {},
   "outputs": [],
   "source": []
  },
  {
   "cell_type": "code",
   "execution_count": 242,
   "id": "672deb46",
   "metadata": {},
   "outputs": [
    {
     "name": "stdout",
     "output_type": "stream",
     "text": [
      "MAE from 2nd approach \n",
      "32070.773844961244\n"
     ]
    }
   ],
   "source": [
    "# second (2nd) approach for handling missing data by simple imputations\n",
    "my_imputer = SimpleImputer()\n",
    "\n",
    "imputed_train_X = pd.DataFrame(my_imputer.fit_transform(train_X))\n",
    "imputed_val_X = pd.DataFrame(my_imputer.fit_transform(val_X))\n",
    "\n",
    "#replace column names\n",
    "imputed_train_X.columns = train_X.columns\n",
    "imputed_val_X.columns = val_X.columns \n",
    "\n",
    "print(\"MAE from 2nd approach \")\n",
    "print(score_all(imputed_train_X, imputed_val_X, train_y, val_y))\n"
   ]
  },
  {
   "cell_type": "code",
   "execution_count": 243,
   "id": "0e47c687",
   "metadata": {},
   "outputs": [
    {
     "name": "stdout",
     "output_type": "stream",
     "text": [
      "MAE from 3rd approach \n",
      "32070.773844961244\n"
     ]
    }
   ],
   "source": [
    "#thrid (3rd) approach to hadling missing data\n",
    "\n",
    "# making copy of the data to avoid changing originall data\n",
    "train_X_plus = train_X.copy()\n",
    "val_X_plus  = val_X.copy()\n",
    "\n",
    "#find columns with missing data\n",
    "col_with_missing = [col for col in train_X.columns\n",
    "                   if train_X[col].isnull().any()]\n",
    "\n",
    "#looping through the missing columns to add extra information\n",
    "for col in col_with_missing:\n",
    "    train_X_plus[col + '__was missing'] = train_X_plus[col].isnull()\n",
    "    val_X_plus[col + '__was missing'] = val_X_plus[col].isnull()\n",
    "    \n",
    "#imputer\n",
    "my_imputer = SimpleImputer()\n",
    "imputed_train_X_plus = pd.DataFrame(my_imputer.fit_transform(train_X_plus))\n",
    "imputed_val_X_plus = pd.DataFrame(my_imputer.fit_transform(val_X_plus))\n",
    "\n",
    "#fix column names\n",
    "imputed_train_X_plus.columns = train_X_plus.columns\n",
    "imputed_val_X_plus.columns = val_X_plus.columns\n",
    "\n",
    "print(\"MAE from 3rd approach \")\n",
    "print(score_all(imputed_train_X_plus, imputed_val_X_plus, train_y, val_y))"
   ]
  },
  {
   "cell_type": "code",
   "execution_count": 244,
   "id": "862649de",
   "metadata": {},
   "outputs": [
    {
     "data": {
      "text/plain": [
       "43273.4742248062"
      ]
     },
     "execution_count": 244,
     "metadata": {},
     "output_type": "execute_result"
    }
   ],
   "source": [
    "#define the model with a random state equals 1\n",
    "califonia_model = DecisionTreeRegressor(random_state=1)\n",
    "\n",
    "#fit data and #make predictions\n",
    "califonia_model.fit(train_X, train_y)\n",
    "preds = califonia_model.predict(val_X)\n",
    "\n",
    "def scoreall(val_y,preds):\n",
    "    mae = mean_absolute_error(val_y,preds)\n",
    "    return mae\n",
    "\n",
    "scoreall(val_y, preds)"
   ]
  },
  {
   "cell_type": "code",
   "execution_count": 245,
   "id": "9172faa8",
   "metadata": {},
   "outputs": [
    {
     "data": {
      "text/plain": [
       "32070.773844961244"
      ]
     },
     "execution_count": 245,
     "metadata": {},
     "output_type": "execute_result"
    }
   ],
   "source": [
    "# making a better predictions with RandomForestRegressor and make predictions\n",
    "\n",
    "califonia_model_2 = RandomForestRegressor(random_state=1)\n",
    "califonia_model_2.fit(train_X , train_y)\n",
    "preds_2 = califonia_model_2.predict(val_X)\n",
    "\n",
    "\n",
    "#measuring the quality of the data\n",
    "\n",
    "def scoreall(val_y,preds_2 ):\n",
    "    mae = mean_absolute_error(val_y,preds_2)\n",
    "    return mae\n",
    "\n",
    "scoreall(val_y, preds_2)"
   ]
  },
  {
   "cell_type": "code",
   "execution_count": null,
   "id": "d8650557",
   "metadata": {},
   "outputs": [],
   "source": []
  }
 ],
 "metadata": {
  "kernelspec": {
   "display_name": "Python 3 (ipykernel)",
   "language": "python",
   "name": "python3"
  },
  "language_info": {
   "codemirror_mode": {
    "name": "ipython",
    "version": 3
   },
   "file_extension": ".py",
   "mimetype": "text/x-python",
   "name": "python",
   "nbconvert_exporter": "python",
   "pygments_lexer": "ipython3",
   "version": "3.9.7"
  }
 },
 "nbformat": 4,
 "nbformat_minor": 5
}
